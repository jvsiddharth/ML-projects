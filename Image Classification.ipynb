{
 "cells": [
  {
   "cell_type": "code",
   "execution_count": 13,
   "metadata": {},
   "outputs": [],
   "source": [
    "import tensorflow as tf\n",
    "from tensorflow.keras import datasets, layers, models\n",
    "from tensorflow.keras.layers import Dropout, BatchNormalization"
   ]
  },
  {
   "cell_type": "code",
   "execution_count": 3,
   "metadata": {},
   "outputs": [],
   "source": [
    "(train_images, train_labels), (test_images, test_labels) = datasets.cifar10.load_data()"
   ]
  },
  {
   "cell_type": "code",
   "execution_count": 4,
   "metadata": {},
   "outputs": [],
   "source": [
    "train_images, test_images = train_images / 255.0, test_images / 255.0"
   ]
  },
  {
   "cell_type": "code",
   "execution_count": 5,
   "metadata": {},
   "outputs": [],
   "source": [
    "model = models.Sequential([\n",
    "    layers.Conv2D(32, (3,3), activation='relu', input_shape=(32, 32, 3)),\n",
    "    layers.MaxPooling2D((2, 2)),\n",
    "    layers.Conv2D(64, (3,3), activation='relu'),\n",
    "    layers.MaxPooling2D((2, 2)),\n",
    "    layers.Conv2D(128, (3,3), activation='relu'),\n",
    "    layers.MaxPooling2D((2, 2)),\n",
    "    layers.Flatten(),\n",
    "    layers.Dense(128, activation='relu'),\n",
    "    Dropout(0.5),  # Add dropout with a rate of 0.5\n",
    "    layers.Dense(10)\n",
    "])"
   ]
  },
  {
   "cell_type": "code",
   "execution_count": 14,
   "metadata": {},
   "outputs": [],
   "source": [
    "model.add(BatchNormalization())\n",
    "model.add(BatchNormalization())\n",
    "model.add(BatchNormalization())"
   ]
  },
  {
   "cell_type": "code",
   "execution_count": 15,
   "metadata": {},
   "outputs": [],
   "source": [
    "model.compile(optimizer='adam',\n",
    "                       loss=tf.keras.losses.SparseCategoricalCrossentropy(from_logits=True),\n",
    "                       metrics=['accuracy'])"
   ]
  },
  {
   "cell_type": "code",
   "execution_count": 16,
   "metadata": {},
   "outputs": [
    {
     "name": "stdout",
     "output_type": "stream",
     "text": [
      "Epoch 1/10\n",
      "782/782 [==============================] - 43s 51ms/step - loss: 0.7804 - accuracy: 0.7909 - val_loss: 0.8799 - val_accuracy: 0.7156\n",
      "Epoch 2/10\n",
      "782/782 [==============================] - 38s 49ms/step - loss: 0.6167 - accuracy: 0.8092 - val_loss: 0.8572 - val_accuracy: 0.7213\n",
      "Epoch 3/10\n",
      "782/782 [==============================] - 38s 49ms/step - loss: 0.5477 - accuracy: 0.8221 - val_loss: 0.8837 - val_accuracy: 0.7140\n",
      "Epoch 4/10\n",
      "782/782 [==============================] - 38s 48ms/step - loss: 0.4987 - accuracy: 0.8367 - val_loss: 0.8803 - val_accuracy: 0.7195\n",
      "Epoch 5/10\n",
      "782/782 [==============================] - 38s 48ms/step - loss: 0.4518 - accuracy: 0.8535 - val_loss: 0.9006 - val_accuracy: 0.7196\n",
      "Epoch 6/10\n",
      "782/782 [==============================] - 38s 49ms/step - loss: 0.4159 - accuracy: 0.8616 - val_loss: 1.0092 - val_accuracy: 0.6960\n",
      "Epoch 7/10\n",
      "782/782 [==============================] - 38s 49ms/step - loss: 0.3867 - accuracy: 0.8717 - val_loss: 0.9828 - val_accuracy: 0.7209\n",
      "Epoch 8/10\n",
      "782/782 [==============================] - 38s 49ms/step - loss: 0.3556 - accuracy: 0.8823 - val_loss: 1.0303 - val_accuracy: 0.7083\n",
      "Epoch 9/10\n",
      "782/782 [==============================] - 42s 53ms/step - loss: 0.3325 - accuracy: 0.8922 - val_loss: 1.0650 - val_accuracy: 0.7031\n",
      "Epoch 10/10\n",
      "782/782 [==============================] - 41s 52ms/step - loss: 0.3105 - accuracy: 0.8992 - val_loss: 1.0132 - val_accuracy: 0.7130\n"
     ]
    }
   ],
   "source": [
    "history = model.fit(train_images, train_labels, epochs=10,\n",
    "                    validation_data=(test_images, test_labels), batch_size=64)"
   ]
  },
  {
   "cell_type": "code",
   "execution_count": 20,
   "metadata": {},
   "outputs": [
    {
     "name": "stdout",
     "output_type": "stream",
     "text": [
      "313/313 - 2s - loss: 1.0132 - accuracy: 0.7130 - 2s/epoch - 5ms/step\n"
     ]
    }
   ],
   "source": [
    "test_loss, test_acc = model.evaluate(test_images, test_labels, verbose=2)\n"
   ]
  },
  {
   "cell_type": "code",
   "execution_count": 19,
   "metadata": {},
   "outputs": [
    {
     "name": "stdout",
     "output_type": "stream",
     "text": [
      "Test accuracy: 0.7129999995231628\n"
     ]
    }
   ],
   "source": [
    "print(f\"Test accuracy: {test_acc}\")"
   ]
  }
 ],
 "metadata": {
  "kernelspec": {
   "display_name": "Python 3",
   "language": "python",
   "name": "python3"
  },
  "language_info": {
   "codemirror_mode": {
    "name": "ipython",
    "version": 3
   },
   "file_extension": ".py",
   "mimetype": "text/x-python",
   "name": "python",
   "nbconvert_exporter": "python",
   "pygments_lexer": "ipython3",
   "version": "3.11.6"
  }
 },
 "nbformat": 4,
 "nbformat_minor": 2
}
